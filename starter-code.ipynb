{
 "cells": [
  {
   "cell_type": "markdown",
   "metadata": {},
   "source": [
    "<img src=\"http://imgur.com/1ZcRyrc.png\" style=\"float: left; margin: 20px; height: 55px\">\n",
    "\n",
    "# Principles of Data Visualization\n",
    "\n",
    "---\n",
    "\n",
    "## Learning Objectives\n",
    "- Identify what type of visualization may be appropriate for a given scenario.\n",
    "- Generate bar graphs, histograms, scatter plots, and line plots in `matplotlib`.\n",
    "- Generate heat maps in `seaborn`.\n",
    "- Critique data visualizations and implement changes."
   ]
  },
  {
   "cell_type": "markdown",
   "metadata": {},
   "source": [
    "<details><summary>Let's get started with a question: what is the point of creating a visualization for data?</summary>\n",
    "    \n",
    "- \"Use a picture. It's worth a thousand words.\" - Tess Flanders, 1911\n",
    "- We generally use visualizations in order to efficiently and/or effectively communicate information.\n",
    "</details>"
   ]
  },
  {
   "cell_type": "markdown",
   "metadata": {},
   "source": [
    "## First, what *not* to do..."
   ]
  },
  {
   "cell_type": "markdown",
   "metadata": {},
   "source": [
    "<img src=\"./images/bad2.jpg\" style=\"height: 400px\">\n",
    "\n",
    "*Above images from [this source](https://teachdatascience.com/ethicaldataviz/).*"
   ]
  },
  {
   "cell_type": "markdown",
   "metadata": {},
   "source": [
    "<details><summary>What is wrong with the above visualization?</summary>\n",
    "    \n",
    "- The x-axis is not arranged according to dates, but according to cases. This shows a misleading decline in cases that does not actually exist.\n",
    "</details>"
   ]
  },
  {
   "cell_type": "markdown",
   "metadata": {},
   "source": [
    "<img src=\"./images/bad3.png\" style=\"height: 350px\">\n",
    "\n",
    "*Above image from [this source](https://www.datarevelations.com/resources/hey-your-tableau-public-viz-sucks-revisited/).*"
   ]
  },
  {
   "cell_type": "markdown",
   "metadata": {},
   "source": [
    "<details><summary>What is wrong with the above visualization?</summary>\n",
    "    \n",
    "- In general, this graph is not super clear. The reader is unsure of what is being conveyed here.\n",
    "- The main problem with this visual is the color scale! As a general rule, never use red and green together in a visualization. Stick with accessible, color blind friendly color palettes. Read more about this [here](https://venngage.com/blog/color-blind-friendly-palette/).\n",
    "</details>"
   ]
  },
  {
   "cell_type": "markdown",
   "metadata": {},
   "source": [
    "<img src=\"./images/bad4.png\" style=\"height: 400px\">"
   ]
  },
  {
   "cell_type": "markdown",
   "metadata": {},
   "source": [
    "<details><summary>What is wrong with the above visualization?</summary>\n",
    "    \n",
    "- Multiple data series are compared on the same graph, with different scales!  \n",
    "- The claim of this visual is that this shows there is a temporal correlation between thyroid cancer and exposure to the chemical (herbicide) glyphosate also known as **Roundup**. Does this visual support that claim?  \n",
    "</details>"
   ]
  },
  {
   "cell_type": "markdown",
   "metadata": {},
   "source": [
    "You can see more bad visualizations [here](https://viz.wtf/) and [here](https://www.callingbullshit.org/tools/tools_misleading_axes.html).\n",
    "\n"
   ]
  },
  {
   "cell_type": "markdown",
   "metadata": {},
   "source": [
    "## What to do..."
   ]
  },
  {
   "cell_type": "markdown",
   "metadata": {},
   "source": [
    "0. Tell a story. The point of presenting visual information in data science is to make a technical point in a digestible way.\n",
    "> Ask yourself what story you are trying to tell before creating the visualization.\n",
    "> - When you share a deliverable with a client (report, slide deck, etc.) the first or second thing they will do is look over the visualizations. You can lose their attention or confuse them if the visualizations are hard to understand\n",
    "1. Less is more. Get rid of everything you don’t need and only focus on what you are trying to communicate.\n",
    "> “Above all else show the data.” “Graphical excellence consists of complex ideas communicated with clarity, precision, and efficiency.”  \n",
    "> - Tufte in [Visual Display of Quantitative Information](https://www.amazon.com/Visual-Display-Quantitative-Information/dp/1930824130)\n",
    "2. Use color to help communicate\n",
    "> Color should be used to emphasize, not distract the audience. We can use color to draw the audience's eyes where we want them to look. If you are concerned that your image is too \"cluttered,\" then consider toning down your use of color.\n",
    "3. Design for Accessibility\n",
    "> Color Blindness/ Color Vision Deficiency (CVD) can take many forms. Red-green is 99% of cases.  \n",
    "> - \"Red–green color blindness is the most common form, followed by blue–yellow color blindness and total color blindness. Red–green color blindness affects up to 8% of males and 0.5% of females of Northern European descent.\" - [Wikipedia](https://en.wikipedia.org/wiki/Color_blindness)\n",
    "> - This is an educational article that explains color theory in more depth: [color theory](https://edtechbooks.org/ux/color_theory)\n",
    "\n",
    "### Let's do it!\n",
    "\n",
    "First, let's download our data. This data is from [Kaggle](https://www.kaggle.com/crawford/80-cereals?select=cereal.csv) and is part of a [Makeover Monday challenge](https://www.makeovermonday.co.uk/data/) to improve a visualization.\n",
    "\n",
    "<img src=\"./images/cereal.jpeg\" style=\"height: 35==200px\">"
   ]
  },
  {
   "cell_type": "code",
   "execution_count": 22,
   "metadata": {},
   "outputs": [],
   "source": [
    "# Imports\n"
   ]
  },
  {
   "cell_type": "code",
   "execution_count": null,
   "metadata": {},
   "outputs": [],
   "source": [
    "# Import and view cereal data\n"
   ]
  },
  {
   "cell_type": "code",
   "execution_count": null,
   "metadata": {},
   "outputs": [],
   "source": [
    "# Preliminary checks\n"
   ]
  },
  {
   "cell_type": "code",
   "execution_count": null,
   "metadata": {},
   "outputs": [],
   "source": [
    "def digital_root(num):\n",
    "    total = sum(int(digit) for digit in str(num))\n",
    "    if x < 10:\n",
    "        return x\n",
    "    else:\n",
    "        return digital_root(x)\n",
    "    print(total)"
   ]
  },
  {
   "cell_type": "markdown",
   "metadata": {},
   "source": [
    "## Bar Charts\n",
    "\n",
    "> \"A bar chart or bar graph is a chart or graph that presents categorical data with rectangular bars with heights or lengths proportional to the values that they represent.\" -[Wikipedia](https://en.wikipedia.org/wiki/Bar_chart)"
   ]
  },
  {
   "cell_type": "code",
   "execution_count": null,
   "metadata": {},
   "outputs": [],
   "source": [
    "# Get top 10 most sugary cereals, save as a variable\n"
   ]
  },
  {
   "cell_type": "code",
   "execution_count": null,
   "metadata": {},
   "outputs": [],
   "source": [
    "plt.figure(figsize = (15, 5))\n",
    "# bar chart\n",
    "plt.bar(x = sugary[\"name\"], height = sugary[\"sugars\"])\n",
    "###########################\n",
    "# Styling your plot\n",
    "###########################\n",
    "# Title\n",
    "plt.title(\"Top 10 most sugary cereals\")\n",
    "# Axis labels\n",
    "plt.xlabel(\"Cereal name\") # categories of cereal\n",
    "plt.ylabel(\"Grams of Sugar (per serving)\")\n",
    "plt.xticks(rotation = 10);\n"
   ]
  },
  {
   "cell_type": "code",
   "execution_count": null,
   "metadata": {},
   "outputs": [],
   "source": [
    "plt.figure(figsize = (12,5))\n",
    "plt.barh(y = sugary[\"name\"][::-1], width = sugary[\"sugars\"][::-1])\n",
    "plt.title(\"Top 10 Cererals with highest sugar content (horiztonal)\")\n",
    "plt.xlabel(\"Grams of sugar (per serving)\");"
   ]
  },
  {
   "cell_type": "code",
   "execution_count": null,
   "metadata": {
    "scrolled": true
   },
   "outputs": [],
   "source": [
    "# plt.barh() will create a horizontal bar chart. (Note the h at the end of bar!)\n"
   ]
  },
  {
   "cell_type": "markdown",
   "metadata": {},
   "source": [
    "## Histograms\n",
    "> Histograms are used to display the distribution of numerical data."
   ]
  },
  {
   "cell_type": "code",
   "execution_count": null,
   "metadata": {},
   "outputs": [],
   "source": [
    "# Let's plot a histogram of cereal rating\n",
    "\n",
    "# Size\n",
    "\n",
    "# Plot it\n",
    "# colors: https://matplotlib.org/3.1.0/gallery/color/named_colors.html\n",
    "\n",
    "# Create a descriptive title\n",
    "# Do we need axis lables here?"
   ]
  },
  {
   "cell_type": "markdown",
   "metadata": {},
   "source": [
    "## Scatter Plots\n",
    "> Scatter plots are used to display the relationship between two variables.\n",
    "\n",
    "> Can encode additional information into a scatter plot by using color, size and shape"
   ]
  },
  {
   "cell_type": "code",
   "execution_count": null,
   "metadata": {},
   "outputs": [],
   "source": [
    "# Let's create a scatter plot of calories vs. sugar\n",
    "\n",
    "# Size\n",
    "\n",
    "# Scatter plot\n",
    "\n",
    "# Create a descriptive title\n",
    "\n",
    "# Add axis labels\n"
   ]
  },
  {
   "cell_type": "markdown",
   "metadata": {},
   "source": [
    "## Line Graphs\n",
    "> Line graphs (also known as line plots or line charts) use lines to connect data points to show the changes in numerical values over time."
   ]
  },
  {
   "cell_type": "code",
   "execution_count": null,
   "metadata": {},
   "outputs": [],
   "source": [
    "# Generate data over time\n",
    "dates = pd.date_range('3-1-20', '7-30-20')\n",
    "bowls_eaten = np.random.poisson(1, size = 152)"
   ]
  },
  {
   "cell_type": "code",
   "execution_count": null,
   "metadata": {},
   "outputs": [],
   "source": [
    "# Let's create a line plot of the number of bowls of cereal I've consumed\n",
    "\n",
    "# Size\n",
    "\n",
    "# Line plot\n",
    "\n",
    "# Create a descriptive title\n",
    "\n",
    "# Add axis labels\n"
   ]
  },
  {
   "cell_type": "markdown",
   "metadata": {},
   "source": [
    "## Heat Maps\n",
    "> Heat maps use color to show the strength of a relationship between two or more variables.\n",
    "\n",
    "A commonly seen implementation of a heatmap uses the [Seaborn library](https://seaborn.pydata.org)."
   ]
  },
  {
   "cell_type": "code",
   "execution_count": null,
   "metadata": {},
   "outputs": [],
   "source": [
    "# This code is taken with minor modifications from https://seaborn.pydata.org/generated/seaborn.heatmap.html\n",
    "\n",
    "# Establish size of figure.\n",
    "\n",
    "# Get correlation of variables.\n",
    "\n",
    "# Set up mask to be \"True\" in the upper triangle.\n",
    "\n",
    "# Plot our correlation heatmap, while masking the upper triangle to be white.\n",
    "\n",
    "\n",
    "# Establish size of figure.\n",
    "plt.figure(figsize= (16, 9))\n",
    "# Get correlation of variables.\n",
    "corr = cereal.corr()\n",
    "# Set up mask to be \"True\" in the upper triangle.\n",
    "mask = np.zeros_like(corr)\n",
    "mask[np.triu_indices_from(mask)] = True\n",
    "# Plot our correlation heatmap, while masking the upper triangle to be white.\n",
    "sns.heatmap(data = corr,     # data to plot\n",
    "            mask = mask,\n",
    "            square = True,   # boolean for a square plot or not\n",
    "            cmap = \"mako\",   # color patelette\n",
    "            annot = True);   # annotate = true, display correlations on plot as text"
   ]
  },
  {
   "cell_type": "markdown",
   "metadata": {},
   "source": [
    "## Advanced: Subplots\n",
    "> We can use subplots to easily compare multiple visualizations by sharing an axis."
   ]
  },
  {
   "cell_type": "code",
   "execution_count": null,
   "metadata": {},
   "outputs": [],
   "source": [
    "# Establish figure size.\n",
    "plt.figure(figsize = (16,9))\n",
    "\n",
    "# We can create subplots, which allows us to have multiple subplots in the same plot.\n",
    "# plt.subplot(3, 1, 1) means we have 3 rows, 1 column, and are referencing plot 1.\n",
    "ax1 = plt.subplot(3, 1, 1)\n",
    "\n",
    "\n",
    "# plt.subplot(3, 1, 2) means we have 3 rows, 1 column, and are referencing plot 2.\n",
    "ax2 = plt.subplot(3, 1, 2, sharex=ax1)\n",
    "\n",
    "\n",
    "# plt.subplot(3, 1, 3) means we have 3 rows, 1 column, and are referencing plot 3.\n",
    "ax3 = plt.subplot(3, 1, 3, sharex=ax2)\n",
    "\n",
    "\n",
    "plt.tight_layout(); # adds more space\n",
    "\n",
    "\n",
    "\n",
    "\n",
    "\n",
    "# Establish figure size.\n",
    "plt.figure(figsize = (16,9))\n",
    "# We can create subplots, which allows us to have multiple subplots in the same plot.\n",
    "# plt.subplot(3, 1, 1) means we have 3 rows, 1 column, and are referencing plot 1.\n",
    "ax1 = plt.subplot(3, 1, 1)\n",
    "ax1.set_title(\"Grams of protein\")\n",
    "ax1.hist(cereal[\"protein\"])\n",
    "# plt.subplot(3, 1, 2) means we have 3 rows, 1 column, and are referencing plot 2.\n",
    "ax2 = plt.subplot(3, 1, 2, sharex=ax1)\n",
    "ax2.set_title(\"Grams of fat\")\n",
    "ax2.hist(cereal[\"fat\"])\n",
    "# plt.subplot(3, 1, 3) means we have 3 rows, 1 column, and are referencing plot 3.\n",
    "ax3 = plt.subplot(3, 1, 3, sharex=ax2)\n",
    "ax3.set_title(\"Grams of carbs\")\n",
    "ax3.hist(cereal[\"carbo\"])\n",
    "# plt method to control space\n",
    "plt.tight_layout(); "
   ]
  },
  {
   "cell_type": "markdown",
   "metadata": {},
   "source": [
    "---\n",
    "\n",
    "## More Visualization Libraries in Python\n",
    "\n",
    "In this lesson, you saw the vanilla matplotlib API and [Seaborn](https://seaborn.pydata.org/) (which uses Matplotlib under the hood). Other Popular Python visualization libraries include the following, which can be used for more advanced plots (like maps) or for interactive plotting:\n",
    "- [Bokeh](http://bokeh.pydata.org/en/latest/)\n",
    "- [Altair](https://altair-viz.github.io/)\n",
    "- [Plotly](https://plot.ly/python/getting-started/)\n",
    "\n",
    "## Other Visualization Tools\n",
    "\n",
    "A variety of non-programming tools are also used in industry. However, not all of these are great for repeated analysis, customizable, or free! For example:\n",
    "- Excel\n",
    "- Power BI\n",
    "- Tableau\n",
    "\n",
    "---\n",
    "\n",
    "## Matplotlib gallery\n",
    "\n",
    "See the possibilities of matplotlib [here](https://matplotlib.org/3.2.1/tutorials/introductory/sample_plots.html#sphx-glr-tutorials-introductory-sample-plots-py).\n",
    "- These examples are to show what's possible. Don't feel you need to memorize any of them. \n",
    "\n",
    "---\n",
    "\n",
    "## Choosing the Right Chart Type\n",
    "\n",
    "**If-This-Then-That Guidelines**\n",
    "\n",
    "### Just a number or two\n",
    "If showing just one or two numbers, then:\n",
    "   - simply report the numbers.\n",
    "   - compare numbers using a bar chart.\n",
    "   \n",
    "### One Variable\n",
    "If visualizing the distribution of one variable, then:\n",
    "   - If the variable is qualitative, (categorical: nominal or ordinal): use a bar chart.\n",
    "   - If the variable is quantitative (numeric: ratio or interval): use a histogram.\n",
    "    \n",
    "### Two Variables\n",
    "If visualizing the relationship between two variables, then:\n",
    "   - If both variables are quantitative, then:\n",
    "       - If one variable is time, then use a line plot.\n",
    "       - Otherwise, use a scatter plot - or a box plot if want to show stats.\n",
    "   - If one variable is quantitative and another is qualitative, then use multiple histograms.\n",
    "   - If both variables are qualitative, then:\n",
    "       - Use a table or a heat map.\n",
    "\n",
    "### Three+ Variables\n",
    "- Use a heat map, box plot, or multiple scatter plots\n",
    "\n",
    "That should cover 95%+ of cases you'll see. 😀\n",
    "\n",
    "\n",
    "### Avoid...\n",
    "- Pie Charts\n",
    "- 3-D Charts\n",
    "\n",
    "### Resources\n",
    "- This is a resource to experiment with visualizing datasets [gapminder](https://www.gapminder.org/tools/)\n",
    "- There is also a `gapminder` python package: [pypi gapminder](https://pypi.org/project/gapminder/)"
   ]
  },
  {
   "cell_type": "markdown",
   "metadata": {},
   "source": [
    "### Talks on Data Visualization"
   ]
  },
  {
   "cell_type": "code",
   "execution_count": 23,
   "metadata": {},
   "outputs": [],
   "source": [
    "# Function to embed youtube videos into a Jupyter notebook\n",
    "from IPython.display import YouTubeVideo\n",
    "\n",
    "def display_yotube_video(url, **kwargs):\n",
    "    \"\"\"\n",
    "    Displays a Youtube video in a Jupyter notebook.\n",
    "    \n",
    "    Args:\n",
    "        url (string): a link to a Youtube video.\n",
    "        **kwargs: further arguments for IPython.display.YouTubeVideo\n",
    "    \n",
    "    Returns:\n",
    "        YouTubeVideo: a video that is displayed in your notebook.\n",
    "    \"\"\"\n",
    "    id_ = url.split(\"=\")[-1]\n",
    "    return YouTubeVideo(id_, **kwargs)"
   ]
  },
  {
   "cell_type": "code",
   "execution_count": 24,
   "metadata": {},
   "outputs": [
    {
     "data": {
      "image/jpeg": "[encoded data removed]",
      "text/html": [
       "\n",
       "        <iframe\n",
       "            width=\"800\"\n",
       "            height=\"600\"\n",
       "            src=\"https://www.youtube.com/embed/5Zg-C8AAIGg\"\n",
       "            frameborder=\"0\"\n",
       "            allowfullscreen\n",
       "        ></iframe>\n",
       "        "
      ],
      "text/plain": [
       "<IPython.lib.display.YouTubeVideo at 0x1291e4b50>"
      ]
     },
     "execution_count": 24,
     "metadata": {},
     "output_type": "execute_result"
    }
   ],
   "source": [
    "# Video about data journalism\n",
    "display_yotube_video(\"https://www.youtube.com/watch?v=5Zg-C8AAIGg\", width=800, height=600)"
   ]
  },
  {
   "cell_type": "code",
   "execution_count": 25,
   "metadata": {},
   "outputs": [
    {
     "data": {
      "image/jpeg": "[encoded data removed]",
      "text/html": [
       "\n",
       "        <iframe\n",
       "            width=\"800\"\n",
       "            height=\"600\"\n",
       "            src=\"https://www.youtube.com/embed/jbkSRLYSojo\"\n",
       "            frameborder=\"0\"\n",
       "            allowfullscreen\n",
       "        ></iframe>\n",
       "        "
      ],
      "text/plain": [
       "<IPython.lib.display.YouTubeVideo at 0x1291e4d30>"
      ]
     },
     "execution_count": 25,
     "metadata": {},
     "output_type": "execute_result"
    }
   ],
   "source": [
    "# Great video for understanding the story-telling aspect of data visualization\n",
    "display_yotube_video(\"https://www.youtube.com/watch?v=jbkSRLYSojo\", width=800, height=600)"
   ]
  },
  {
   "cell_type": "code",
   "execution_count": null,
   "metadata": {},
   "outputs": [],
   "source": []
  }
 ],
 "metadata": {
  "kernelspec": {
   "display_name": "Python 3",
   "language": "python",
   "name": "python3"
  },
  "language_info": {
   "codemirror_mode": {
    "name": "ipython",
    "version": 3
   },
   "file_extension": ".py",
   "mimetype": "text/x-python",
   "name": "python",
   "nbconvert_exporter": "python",
   "pygments_lexer": "ipython3",
   "version": "3.8.3"
  }
 },
 "nbformat": 4,
 "nbformat_minor": 4
}
